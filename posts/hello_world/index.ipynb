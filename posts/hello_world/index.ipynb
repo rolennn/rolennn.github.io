{
 "cells": [
  {
   "cell_type": "raw",
   "id": "1ae8bea0",
   "metadata": {},
   "source": [
    "---\n",
    "title: \"Hello World\"\n",
    "date: \"2023-12-31\"\n",
    "categories: [essay]\n",
    "format: \n",
    "  html:\n",
    "    code-fold: true\n",
    "    toc: true\n",
    "jupyter: python3\n",
    "---"
   ]
  },
  {
   "cell_type": "markdown",
   "id": "f93cceca",
   "metadata": {},
   "source": [
    "This is a post."
   ]
  },
  {
   "cell_type": "code",
   "execution_count": null,
   "id": "448dfef0-e5b0-4cb7-99a2-73b44b42b241",
   "metadata": {},
   "outputs": [],
   "source": []
  }
 ],
 "metadata": {
  "kernelspec": {
   "display_name": "Python 3 (ipykernel)",
   "language": "python",
   "name": "python3"
  },
  "language_info": {
   "codemirror_mode": {
    "name": "ipython",
    "version": 3
   },
   "file_extension": ".py",
   "mimetype": "text/x-python",
   "name": "python",
   "nbconvert_exporter": "python",
   "pygments_lexer": "ipython3",
   "version": "3.11.3"
  }
 },
 "nbformat": 4,
 "nbformat_minor": 5
}
