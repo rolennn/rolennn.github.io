{
 "cells": [
  {
   "cell_type": "raw",
   "id": "1ae8bea0",
   "metadata": {},
   "source": [
    "---\n",
    "title: \"Hello World\"\n",
    "date: \"2023-12-31\"\n",
    "categories: []\n",
    "format: \n",
    "  html:\n",
    "    code-fold: true\n",
    "    toc: true\n",
    "jupyter: python3\n",
    "---"
   ]
  },
  {
   "cell_type": "markdown",
   "id": "f93cceca",
   "metadata": {},
   "source": [
    "This is my first post in this blog. I hope to use this to document some interesting projects and research activities. I hope that I'll have some interesting things to share to the world. First among these are the resources in the sidebar. (Some of them even serve as inspiration for the format and content of this blog.) \n",
    "\n",
    "I'm not sure if I will have the committment to grow this site, but I hope to at least try. It seems that I'll have to take some big steps along the way. Anyway, the first step is always a big step.  "
   ]
  }
 ],
 "metadata": {
  "kernelspec": {
   "display_name": "Python 3 (ipykernel)",
   "language": "python",
   "name": "python3"
  },
  "language_info": {
   "codemirror_mode": {
    "name": "ipython",
    "version": 3
   },
   "file_extension": ".py",
   "mimetype": "text/x-python",
   "name": "python",
   "nbconvert_exporter": "python",
   "pygments_lexer": "ipython3",
   "version": "3.11.3"
  }
 },
 "nbformat": 4,
 "nbformat_minor": 5
}
